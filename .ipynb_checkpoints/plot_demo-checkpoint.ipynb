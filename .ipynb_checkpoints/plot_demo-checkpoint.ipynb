{
 "cells": [
  {
   "cell_type": "code",
   "execution_count": 1,
   "metadata": {
    "collapsed": true
   },
   "outputs": [],
   "source": [
    "from full_prod import *\n",
    "from buchi import buchi_from_ltl\n",
    "from VisualizeBuchi import plot_buchi"
   ]
  },
  {
   "cell_type": "code",
   "execution_count": 2,
   "metadata": {
    "collapsed": false
   },
   "outputs": [
    {
     "name": "stdout",
     "output_type": "stream",
     "text": [
      "Plan synthesized:[r1, c1, c2, r5, c2, c1, r4, c1, r1, r1, r1, r1]\n"
     ]
    }
   ],
   "source": [
    "r4 = Region((0,2),['basket'],'r4')\n",
    "r5 = Region((1,2),['rball'],'r5')\n",
    "r6 = Region((2,2),[],'r6')\n",
    "c1 = Region((0,1),[],'c1')\n",
    "c2 = Region((1,1),[],'c2')\n",
    "c3 = Region((2,1),[],'c3')\n",
    "r1 = Region((0,0),[],'r1')\n",
    "r2 = Region((1,0),['basket'],'r2')\n",
    "r3 = Region((2,0),['gball'],'r3')\n",
    "\n",
    "region_list = [r1, r2, r3, r4, r5, r6, c1, c2, c3]\n",
    "\n",
    "wfts = wFTS()\n",
    "\n",
    "for i in region_list:\n",
    "    wfts.add_states(i)\n",
    "    \n",
    "wfts.add_transition(r1,c1,1)\n",
    "wfts.add_transition(c1,c2,1)\n",
    "wfts.add_transition(c1,r4,1)\n",
    "wfts.add_transition(c2,c3,1)\n",
    "wfts.add_transition(c2,r2,1)\n",
    "wfts.add_transition(c2,r5,1)\n",
    "wfts.add_transition(c3,r6,1)\n",
    "wfts.add_transition(c3,r3,1)\n",
    "\n",
    "wfts.add_initial(r1)\n",
    "\n",
    "formula = '<>(rball && <>basket) && <>[]r1'\n",
    "buchi = buchi_from_ltl(formula,None)\n",
    "my_buchi = Buchi_Automaton(buchi)\n",
    "\n",
    "full_prod = FullProd(wfts,my_buchi)\n",
    "full_prod.construct_fullproduct()\n",
    "count = 0\n",
    "for i in full_prod.states:\n",
    "    for j in full_prod.transition[i].keys():\n",
    "        if full_prod.transition[i][j] is not None:\n",
    "            count += 1 \n",
    "\n",
    "opt=search_opt_run(full_prod)\n",
    "print 'Plan synthesized:'+str([opt[0][i][0] for i in range(len(opt[0]))])"
   ]
  },
  {
   "cell_type": "code",
   "execution_count": 3,
   "metadata": {
    "collapsed": false
   },
   "outputs": [
    {
     "name": "stdout",
     "output_type": "stream",
     "text": [
      "Graph Successfully Plotted\n",
      "Graph Successfully Plotted\n"
     ]
    }
   ],
   "source": [
    "#plot buchi\n",
    "my_buchi.plot()\n",
    "\n",
    "#plot full product\n",
    "full_prod_graph = full_prod.return_graph()\n",
    "plot(full_prod_graph,'full_prod')"
   ]
  }
 ],
 "metadata": {
  "kernelspec": {
   "display_name": "Python 2",
   "language": "python",
   "name": "python2"
  },
  "language_info": {
   "codemirror_mode": {
    "name": "ipython",
    "version": 2
   },
   "file_extension": ".py",
   "mimetype": "text/x-python",
   "name": "python",
   "nbconvert_exporter": "python",
   "pygments_lexer": "ipython2",
   "version": "2.7.13"
  }
 },
 "nbformat": 4,
 "nbformat_minor": 2
}
